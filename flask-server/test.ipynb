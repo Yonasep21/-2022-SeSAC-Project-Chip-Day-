{
 "cells": [
  {
   "cell_type": "code",
   "execution_count": 1,
   "metadata": {
    "collapsed": true,
    "pycharm": {
     "name": "#%%\n"
    }
   },
   "outputs": [],
   "source": [
    "import json\n",
    "\n",
    "import pandas as pd\n",
    "import json\n",
    "from db.from_db import db_select\n",
    "\n",
    "info = db_select('movie_info')"
   ]
  },
  {
   "cell_type": "code",
   "execution_count": null,
   "outputs": [],
   "source": [
    "\n",
    "df = db_select('movie_info')\n",
    "res = df.to_dict('list')['TITLE_KR']\n",
    "list = df.to_dict('records')\n",
    "#M = dict(list(enumerate(df.to_dict('record'), start=1)))\n",
    "#print(M[33][\"POSTER\"])\n",
    "dict =  { \"data\" : list}\n",
    "print(dict['data'][33])"
   ],
   "metadata": {
    "collapsed": false,
    "pycharm": {
     "name": "#%%\n"
    }
   }
  },
  {
   "cell_type": "code",
   "execution_count": 4,
   "outputs": [
    {
     "ename": "JSONDecodeError",
     "evalue": "Expecting ',' delimiter: line 1 column 35 (char 34)",
     "output_type": "error",
     "traceback": [
      "\u001B[0;31m---------------------------------------------------------------------------\u001B[0m",
      "\u001B[0;31mJSONDecodeError\u001B[0m                           Traceback (most recent call last)",
      "Input \u001B[0;32mIn [4]\u001B[0m, in \u001B[0;36m<module>\u001B[0;34m\u001B[0m\n\u001B[1;32m      1\u001B[0m json_str \u001B[38;5;241m=\u001B[39m \u001B[38;5;124m'\u001B[39m\u001B[38;5;124m[\u001B[39m\u001B[38;5;124m{\u001B[39m\u001B[38;5;124m\"\u001B[39m\u001B[38;5;124mkey\u001B[39m\u001B[38;5;124m\"\u001B[39m\u001B[38;5;124m:\u001B[39m\u001B[38;5;124m\"\u001B[39m\u001B[38;5;124mvalue\u001B[39m\u001B[38;5;124m\"\u001B[39m\u001B[38;5;124m},\u001B[39m\u001B[38;5;124m{\u001B[39m\u001B[38;5;124m\"\u001B[39m\u001B[38;5;124mkey2\u001B[39m\u001B[38;5;124m\"\u001B[39m\u001B[38;5;124m:\u001B[39m\u001B[38;5;124m\"\u001B[39m\u001B[38;5;124mvalue2\u001B[39m\u001B[38;5;124m\"\u001B[39m\u001B[38;5;124m}.]\u001B[39m\u001B[38;5;124m'\u001B[39m\n\u001B[0;32m----> 2\u001B[0m json_arr \u001B[38;5;241m=\u001B[39m  \u001B[43mjson\u001B[49m\u001B[38;5;241;43m.\u001B[39;49m\u001B[43mloads\u001B[49m\u001B[43m(\u001B[49m\u001B[43mjson_str\u001B[49m\u001B[43m)\u001B[49m\n\u001B[1;32m      3\u001B[0m json_arr[\u001B[38;5;241m0\u001B[39m][\u001B[38;5;124m'\u001B[39m\u001B[38;5;124mkey\u001B[39m\u001B[38;5;124m'\u001B[39m]\n",
      "File \u001B[0;32m/opt/homebrew/Cellar/python@3.9/3.9.12/Frameworks/Python.framework/Versions/3.9/lib/python3.9/json/__init__.py:346\u001B[0m, in \u001B[0;36mloads\u001B[0;34m(s, cls, object_hook, parse_float, parse_int, parse_constant, object_pairs_hook, **kw)\u001B[0m\n\u001B[1;32m    341\u001B[0m     s \u001B[38;5;241m=\u001B[39m s\u001B[38;5;241m.\u001B[39mdecode(detect_encoding(s), \u001B[38;5;124m'\u001B[39m\u001B[38;5;124msurrogatepass\u001B[39m\u001B[38;5;124m'\u001B[39m)\n\u001B[1;32m    343\u001B[0m \u001B[38;5;28;01mif\u001B[39;00m (\u001B[38;5;28mcls\u001B[39m \u001B[38;5;129;01mis\u001B[39;00m \u001B[38;5;28;01mNone\u001B[39;00m \u001B[38;5;129;01mand\u001B[39;00m object_hook \u001B[38;5;129;01mis\u001B[39;00m \u001B[38;5;28;01mNone\u001B[39;00m \u001B[38;5;129;01mand\u001B[39;00m\n\u001B[1;32m    344\u001B[0m         parse_int \u001B[38;5;129;01mis\u001B[39;00m \u001B[38;5;28;01mNone\u001B[39;00m \u001B[38;5;129;01mand\u001B[39;00m parse_float \u001B[38;5;129;01mis\u001B[39;00m \u001B[38;5;28;01mNone\u001B[39;00m \u001B[38;5;129;01mand\u001B[39;00m\n\u001B[1;32m    345\u001B[0m         parse_constant \u001B[38;5;129;01mis\u001B[39;00m \u001B[38;5;28;01mNone\u001B[39;00m \u001B[38;5;129;01mand\u001B[39;00m object_pairs_hook \u001B[38;5;129;01mis\u001B[39;00m \u001B[38;5;28;01mNone\u001B[39;00m \u001B[38;5;129;01mand\u001B[39;00m \u001B[38;5;129;01mnot\u001B[39;00m kw):\n\u001B[0;32m--> 346\u001B[0m     \u001B[38;5;28;01mreturn\u001B[39;00m \u001B[43m_default_decoder\u001B[49m\u001B[38;5;241;43m.\u001B[39;49m\u001B[43mdecode\u001B[49m\u001B[43m(\u001B[49m\u001B[43ms\u001B[49m\u001B[43m)\u001B[49m\n\u001B[1;32m    347\u001B[0m \u001B[38;5;28;01mif\u001B[39;00m \u001B[38;5;28mcls\u001B[39m \u001B[38;5;129;01mis\u001B[39;00m \u001B[38;5;28;01mNone\u001B[39;00m:\n\u001B[1;32m    348\u001B[0m     \u001B[38;5;28mcls\u001B[39m \u001B[38;5;241m=\u001B[39m JSONDecoder\n",
      "File \u001B[0;32m/opt/homebrew/Cellar/python@3.9/3.9.12/Frameworks/Python.framework/Versions/3.9/lib/python3.9/json/decoder.py:337\u001B[0m, in \u001B[0;36mJSONDecoder.decode\u001B[0;34m(self, s, _w)\u001B[0m\n\u001B[1;32m    332\u001B[0m \u001B[38;5;28;01mdef\u001B[39;00m \u001B[38;5;21mdecode\u001B[39m(\u001B[38;5;28mself\u001B[39m, s, _w\u001B[38;5;241m=\u001B[39mWHITESPACE\u001B[38;5;241m.\u001B[39mmatch):\n\u001B[1;32m    333\u001B[0m     \u001B[38;5;124;03m\"\"\"Return the Python representation of ``s`` (a ``str`` instance\u001B[39;00m\n\u001B[1;32m    334\u001B[0m \u001B[38;5;124;03m    containing a JSON document).\u001B[39;00m\n\u001B[1;32m    335\u001B[0m \n\u001B[1;32m    336\u001B[0m \u001B[38;5;124;03m    \"\"\"\u001B[39;00m\n\u001B[0;32m--> 337\u001B[0m     obj, end \u001B[38;5;241m=\u001B[39m \u001B[38;5;28;43mself\u001B[39;49m\u001B[38;5;241;43m.\u001B[39;49m\u001B[43mraw_decode\u001B[49m\u001B[43m(\u001B[49m\u001B[43ms\u001B[49m\u001B[43m,\u001B[49m\u001B[43m \u001B[49m\u001B[43midx\u001B[49m\u001B[38;5;241;43m=\u001B[39;49m\u001B[43m_w\u001B[49m\u001B[43m(\u001B[49m\u001B[43ms\u001B[49m\u001B[43m,\u001B[49m\u001B[43m \u001B[49m\u001B[38;5;241;43m0\u001B[39;49m\u001B[43m)\u001B[49m\u001B[38;5;241;43m.\u001B[39;49m\u001B[43mend\u001B[49m\u001B[43m(\u001B[49m\u001B[43m)\u001B[49m\u001B[43m)\u001B[49m\n\u001B[1;32m    338\u001B[0m     end \u001B[38;5;241m=\u001B[39m _w(s, end)\u001B[38;5;241m.\u001B[39mend()\n\u001B[1;32m    339\u001B[0m     \u001B[38;5;28;01mif\u001B[39;00m end \u001B[38;5;241m!=\u001B[39m \u001B[38;5;28mlen\u001B[39m(s):\n",
      "File \u001B[0;32m/opt/homebrew/Cellar/python@3.9/3.9.12/Frameworks/Python.framework/Versions/3.9/lib/python3.9/json/decoder.py:353\u001B[0m, in \u001B[0;36mJSONDecoder.raw_decode\u001B[0;34m(self, s, idx)\u001B[0m\n\u001B[1;32m    344\u001B[0m \u001B[38;5;124;03m\"\"\"Decode a JSON document from ``s`` (a ``str`` beginning with\u001B[39;00m\n\u001B[1;32m    345\u001B[0m \u001B[38;5;124;03ma JSON document) and return a 2-tuple of the Python\u001B[39;00m\n\u001B[1;32m    346\u001B[0m \u001B[38;5;124;03mrepresentation and the index in ``s`` where the document ended.\u001B[39;00m\n\u001B[0;32m   (...)\u001B[0m\n\u001B[1;32m    350\u001B[0m \n\u001B[1;32m    351\u001B[0m \u001B[38;5;124;03m\"\"\"\u001B[39;00m\n\u001B[1;32m    352\u001B[0m \u001B[38;5;28;01mtry\u001B[39;00m:\n\u001B[0;32m--> 353\u001B[0m     obj, end \u001B[38;5;241m=\u001B[39m \u001B[38;5;28;43mself\u001B[39;49m\u001B[38;5;241;43m.\u001B[39;49m\u001B[43mscan_once\u001B[49m\u001B[43m(\u001B[49m\u001B[43ms\u001B[49m\u001B[43m,\u001B[49m\u001B[43m \u001B[49m\u001B[43midx\u001B[49m\u001B[43m)\u001B[49m\n\u001B[1;32m    354\u001B[0m \u001B[38;5;28;01mexcept\u001B[39;00m \u001B[38;5;167;01mStopIteration\u001B[39;00m \u001B[38;5;28;01mas\u001B[39;00m err:\n\u001B[1;32m    355\u001B[0m     \u001B[38;5;28;01mraise\u001B[39;00m JSONDecodeError(\u001B[38;5;124m\"\u001B[39m\u001B[38;5;124mExpecting value\u001B[39m\u001B[38;5;124m\"\u001B[39m, s, err\u001B[38;5;241m.\u001B[39mvalue) \u001B[38;5;28;01mfrom\u001B[39;00m \u001B[38;5;28mNone\u001B[39m\n",
      "\u001B[0;31mJSONDecodeError\u001B[0m: Expecting ',' delimiter: line 1 column 35 (char 34)"
     ]
    }
   ],
   "source": [
    "json_str = '[{\"key\":\"value\"},{\"key2\":\"value2\"}.]'\n",
    "json_arr =  json.loads(json_str)\n",
    "json_arr[0]['key']"
   ],
   "metadata": {
    "collapsed": false,
    "pycharm": {
     "name": "#%%\n"
    }
   }
  },
  {
   "cell_type": "markdown",
   "source": [],
   "metadata": {
    "collapsed": false,
    "pycharm": {
     "name": "#%% md\n"
    }
   }
  },
  {
   "cell_type": "code",
   "execution_count": 5,
   "outputs": [
    {
     "data": {
      "text/plain": "{'하야미 사오리': 'https://nujhrcqkiwag1408085.cdn.ntruss.com/static/upload/actor_profile_images/actor_3642_1511275778.jpg'}"
     },
     "execution_count": 5,
     "metadata": {},
     "output_type": "execute_result"
    }
   ],
   "source": [
    "json.loads(str(info['CAST'][1]))[0]"
   ],
   "metadata": {
    "collapsed": false,
    "pycharm": {
     "name": "#%%\n"
    }
   }
  },
  {
   "cell_type": "code",
   "execution_count": null,
   "outputs": [],
   "source": [],
   "metadata": {
    "collapsed": false,
    "pycharm": {
     "name": "#%%\n"
    }
   }
  },
  {
   "cell_type": "code",
   "execution_count": 10,
   "outputs": [
    {
     "data": {
      "text/plain": "{'TITLE_KR': '스파이 패밀리',\n 'TITLE_EN': 'SPY × FAMILY',\n 'POSTER': 'https://nujhrcqkiwag1408085.cdn.ntruss.com/static/upload/drama_poster_images/280x400/drama_100752_1649609840.jpg',\n 'GENRE': '코미디 ·',\n 'YEAR': '2022',\n 'KINO': '100',\n 'TOMATO': None,\n 'IMDB': '9',\n 'STAR': None,\n 'LINK': '[{\"넷플릭스\":\\'https://click.kinolights.com/redirect?url=https%3A%2F%2Fwww.netflix.com%2Fkr%2Ftitle%2F81511410&cx=eyJVc2VyQWdlbnQiOiJNb3ppbGxhLzUuMCAoTWFjaW50b3NoOyBJbnRlbCBNYWMgT1MgWCAxMF8xNV83KSBBcHBsZVdlYktpdC81MzcuMzYgKEtIVE1MLCBsaWtlIEdlY2tvKSBDaHJvbWUvMTAwLjAuNDg5Ni4xMjcgU2FmYXJpLzUzNy4zNiIsIkluZGV4U2NvcmUiOjEwMCwiU3RhclJhdGluZyI6MCwiVk9ES2V5Ijo2MjU0MTQsIlByb3ZpZGVyS2V5Ijo0LCJQcm92aWRlciI6Im5ldGZsaXgiLCJQcmljZSI6IuygleyVoeygnCIsIlR5cGUiOiJzdHJlYW1pbmciLCJVc2VyIjpudWxsLCJNb3ZpZSI6MTAwNzUyLCJUaXRsZSI6IuyKpO2MjOydtCDtjKjrsIDrpqwifQ==&klid=59209eb5-73a0-49a8-9796-c55cfa88a155&source=kinolights&medium=organic&campaign=kinolights&content=title_provider\\',]',\n 'INFO': '\\'사람은 누구나 아무에게도 보여줄 수 없는 자신을 갖고 있다--  세계 각국이 물밑에서 치열하게 정보전을 펼치는 시대. 오스타니아와 웨스탈리스는 십수 년간에 걸쳐 냉전 상태에 있었다.  웨스탈리스의 정보국 대동과 &lt;WISE&gt; 소속의 수완가 스파이인 &lt;황혼&gt;은 동서 평화를 위협하는 위험인물, 오스타니아의 국가통일당 총재 도노반 데스몬드의 동향을 살피기 위해 어떤 극비 임무를 수행하게 된다.  그 이름은 오퍼레이션 &lt;올빼미&gt;.  임무 내용은 \"일주일 이내에 가족을 만들어, 데스몬드의 아들이 다니는 명문 학교의 친목회에 잠입하라\".   &lt;황혼&gt;은 정신과 의사 로이드 포저로 위장하고 가족을 만들게 된다.  하지만, 그가 만난 딸 아냐는 마음을 읽을 수 있는 초능력자, 아내 요르는 암살자였다! 3명의 이해가 일치하여 서로 정체를 숨기면서 함께 생활하게 되는데.  해프닝 연속인 임시 가족에게,  세계의 평화는 맡겨졌다──.',\n 'DIRECTOR': '{\"에구치 타쿠야\":\"https://nujhrcqkiwag1408085.cdn.ntruss.com/static/upload/person_profile_images/person_100563_1596423208.jpeg\"}',\n 'CAST': '[{\"하야미 사오리\":\"https://nujhrcqkiwag1408085.cdn.ntruss.com/static/upload/actor_profile_images/actor_3642_1511275778.jpg\"},{\"타네자키 아츠미\":\"https://nujhrcqkiwag1408085.cdn.ntruss.com/static/upload/actor_profile_images/actor_16181_1549610089.jpg\"},{\"오오츠카 아키오\":\"https://nujhrcqkiwag1408085.cdn.ntruss.com/static/upload/actor_profile_images/actor_883_1510285075.jpg\"},{\"요시노 히로유키\":\"https://nujhrcqkiwag1408085.cdn.ntruss.com/static/upload/actor_profile_images/actor_7086_1520921959.jpg\"},{\"야마지 카즈히로\":\"https://nujhrcqkiwag1408085.cdn.ntruss.com/static/upload/person_profile_images/person_3523_1598494412.jpg\"}]',\n 'TRAILER': 'https://www.youtube.com/embed/h_iYEoLmgww?enablejsapi=1&origin=https%3A%2F%2Fm.kinolights.com&widgetid=1',\n 'KINO_ID': 100752}"
     },
     "execution_count": 10,
     "metadata": {},
     "output_type": "execute_result"
    }
   ],
   "source": [
    "import db.db\n",
    "import pymysql\n",
    "\n",
    "ott = \"넷플릭스\"\n",
    "cursor = db.db.cursor()\n",
    "sql = \"SELECT * FROM movie_info WHERE LINK like '%\"+ ott +\"%';\"\n",
    "cursor.execute(sql)\n",
    "res = cursor.fetchall()\n",
    "res[1]\n",
    "# 일단은 cast 가 {key:value, key2:value2} name : ??? photo:???\n",
    "link = {ott: \"\" , ottutl: \"\"}\n",
    "# 그담 img상관 없구 리뷰 상관없구\n",
    "\n"
   ],
   "metadata": {
    "collapsed": false,
    "pycharm": {
     "name": "#%%\n"
    }
   }
  },
  {
   "cell_type": "code",
   "execution_count": 14,
   "outputs": [
    {
     "data": {
      "text/plain": "{'id': None,\n 'KINO_ID': '103808',\n 'URL': 'https://m.media-amazon.com/images/M/MV5BMzE1ZTlhY2ItZDczMC00NzExLThmMzYtMzRjMTM3NzVlYjM0XkEyXkFqcGdeQXVyMTMzNzQ4MjA5._V1_QL75_UX140_CR0,0,140,140_FMwebp.webp',\n 'NEW_URL': 'https://m.media-amazon.com/images/M/MV5BMzE1ZTlhY2ItZDczMC00NzExLThmMzYtMzRjMTM3NzVlYjM0XkEyXkFqcGdeQXVyMTMzNzQ4MjA5._',\n 'TITLE_EN': 'My Liberation Diary',\n 'new_urls': None}"
     },
     "execution_count": 14,
     "metadata": {},
     "output_type": "execute_result"
    }
   ],
   "source": [
    "# cursor = db.db.cursor()\n",
    "sql = \"SELECT * FROM img_url WHERE KINO_ID = 103808;\"\n",
    "cursor.execute(sql)\n",
    "res = cursor.fetchall()\n",
    "res[0]"
   ],
   "metadata": {
    "collapsed": false,
    "pycharm": {
     "name": "#%%\n"
    }
   }
  }
 ],
 "metadata": {
  "kernelspec": {
   "display_name": "Python 3",
   "language": "python",
   "name": "python3"
  },
  "language_info": {
   "codemirror_mode": {
    "name": "ipython",
    "version": 2
   },
   "file_extension": ".py",
   "mimetype": "text/x-python",
   "name": "python",
   "nbconvert_exporter": "python",
   "pygments_lexer": "ipython2",
   "version": "2.7.6"
  }
 },
 "nbformat": 4,
 "nbformat_minor": 0
}