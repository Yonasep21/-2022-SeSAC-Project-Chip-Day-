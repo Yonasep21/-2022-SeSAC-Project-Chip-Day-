{
 "cells": [
  {
   "cell_type": "code",
   "execution_count": 1,
   "metadata": {
    "collapsed": true,
    "pycharm": {
     "name": "#%%\n"
    }
   },
   "outputs": [],
   "source": [
    "from selenium import webdriver\n",
    "from selenium.webdriver.common.keys import Keys\n",
    "from selenium.webdriver import ActionChains\n",
    "from bs4 import BeautifulSoup\n",
    "import time\n",
    "import pandas as pd\n",
    "import warnings\n",
    "import pymysql.cursors\n",
    "from sqlalchemy import create_engine\n",
    "import re\n",
    "import requests\n",
    "import random\n",
    "warnings.filterwarnings('ignore')"
   ]
  },
  {
   "cell_type": "code",
   "execution_count": 2,
   "outputs": [
    {
     "data": {
      "text/plain": "1"
     },
     "execution_count": 2,
     "metadata": {},
     "output_type": "execute_result"
    }
   ],
   "source": [
    "# db connect get_movie_info\n",
    "user = \"chipnday\"\n",
    "password = \"chipnday2022\"\n",
    "host = \"132.226.150.234:3306\"\n",
    "db = \"chipnday_db\"\n",
    "table = 'MovieInfo'\n",
    "db_connection_str = f'mysql+pymysql://{user}:{password}@{host}/{db}'\n",
    "encoding = '?charset=\"utf8\", encoding=\"utf-8\"'\n",
    "db_connection = create_engine(db_connection_str)\n",
    "conn = db_connection.connect()\n",
    "from_db_df = pd.read_sql_table(table, db_connection)\n",
    "from_db_dicts = []\n",
    "for i in range(len(from_db_df)):\n",
    "    from_db_dict = {'skeword':from_db_df['TitleEn'].values.tolist()[i],'KinoId':from_db_df['KinoId'].values.tolist()[i]}\n",
    "    from_db_dicts.append(from_db_dict)\n",
    "# \"\"제거\n",
    "newtitles = []\n",
    "for from_db in from_db_dicts:\n",
    "    if from_db['skeword']==\"\":\n",
    "        pass\n",
    "    else:\n",
    "        newtitles.append(from_db)\n",
    "\n",
    "#newtitles.pop(0)\n",
    "len(newtitles)"
   ],
   "metadata": {
    "collapsed": false,
    "pycharm": {
     "name": "#%%\n"
    }
   }
  },
  {
   "cell_type": "code",
   "execution_count": 3,
   "outputs": [],
   "source": [
    "# 4 중복 제거 get img_url\n",
    "# db connect\n",
    "user = \"chipnday\"\n",
    "password = \"chipnday2022\"\n",
    "host = \"132.226.150.234:3306\"\n",
    "db = \"chipnday_db\"\n",
    "table = 'ImgUrl'\n",
    "db_connection_str = f'mysql+pymysql://{user}:{password}@{host}/{db}'\n",
    "encoding = '?charset=\"utf8\", encoding=\"utf-8\"'\n",
    "db_connection = create_engine(db_connection_str)\n",
    "conn = db_connection.connect()\n",
    "from_db_df = pd.read_sql_table(table, db_connection)\n",
    "old_url_list =  from_db_df['KinoId'].values.tolist()"
   ],
   "metadata": {
    "collapsed": false,
    "pycharm": {
     "name": "#%%\n"
    }
   }
  },
  {
   "cell_type": "code",
   "execution_count": 4,
   "outputs": [
    {
     "data": {
      "text/plain": "0"
     },
     "execution_count": 4,
     "metadata": {},
     "output_type": "execute_result"
    }
   ],
   "source": [
    "len(old_url_list)"
   ],
   "metadata": {
    "collapsed": false,
    "pycharm": {
     "name": "#%%\n"
    }
   }
  },
  {
   "cell_type": "code",
   "execution_count": 5,
   "outputs": [
    {
     "data": {
      "text/plain": "1"
     },
     "execution_count": 5,
     "metadata": {},
     "output_type": "execute_result"
    }
   ],
   "source": [
    "final_dicts = []\n",
    "for i in range(len(newtitles)):\n",
    "    if  not (str(newtitles[i]['KinoId']) in old_url_list ):\n",
    "        final_dicts.append(newtitles[i])\n",
    "len(final_dicts)"
   ],
   "metadata": {
    "collapsed": false,
    "pycharm": {
     "name": "#%%\n"
    }
   }
  },
  {
   "cell_type": "code",
   "execution_count": 6,
   "outputs": [],
   "source": [
    "# 사이트 접속\n",
    "driver = webdriver.Chrome()\n",
    "driver.get(\"https://www.imdb.com/\")\n",
    "time.sleep(0.3) #1초 웨이팅 없으면 리젝당할수도...&창꺼짐"
   ],
   "metadata": {
    "collapsed": false,
    "pycharm": {
     "name": "#%%\n"
    }
   }
  },
  {
   "cell_type": "code",
   "execution_count": 7,
   "outputs": [],
   "source": [
    "# 영화 정보 창 ㄱㄱ\n",
    "def search(skeword):\n",
    "    elem = driver.find_element_by_name('q')\n",
    "    elem.send_keys(skeword)\n",
    "    elem.submit()\n",
    "    time.sleep(0.3)\n",
    "    driver.find_element_by_xpath('//*[@id=\"main\"]/div/div[2]/table/tbody/tr[1]/td[2]/a').click()\n",
    "    time.sleep(1)"
   ],
   "metadata": {
    "collapsed": false,
    "pycharm": {
     "name": "#%%\n"
    }
   }
  },
  {
   "cell_type": "code",
   "execution_count": 8,
   "outputs": [],
   "source": [
    "def less_img(kino_id,skeword):\n",
    "    img_df =  pd.DataFrame(columns = [ 'KinoId', 'TitleEn', 'SmallImg'])\n",
    "    cnt = 0\n",
    "    img_dicts = []\n",
    "    try:\n",
    "        while True:\n",
    "            cnt += 1\n",
    "            get = driver.find_elements_by_css_selector(f'.ipc-shoveler__grid > div:nth-child({cnt}) > div > img')\n",
    "            url = get[0].get_attribute('src')\n",
    "            img_dict = {'KinoId':kino_id, 'TitleEn':skeword, 'SmallImg':url}\n",
    "            img_df = img_df.append(img_dict, ignore_index=True)\n",
    "    except IndexError as ie:\n",
    "        print(f'{cnt}개의 이미지 가져옴:{ie}')\n",
    "\n",
    "    return img_df"
   ],
   "metadata": {
    "collapsed": false,
    "pycharm": {
     "name": "#%%\n"
    }
   }
  },
  {
   "cell_type": "markdown",
   "source": [],
   "metadata": {
    "collapsed": false,
    "pycharm": {
     "name": "#%% md\n"
    }
   }
  },
  {
   "cell_type": "markdown",
   "source": [],
   "metadata": {
    "collapsed": false,
    "pycharm": {
     "name": "#%% md\n"
    }
   }
  },
  {
   "cell_type": "code",
   "execution_count": 10,
   "outputs": [
    {
     "name": "stdout",
     "output_type": "stream",
     "text": [
      "13개의 이미지 가져옴:list index out of range\n",
      "12 insert success\n",
      "1 / 1\n",
      "컨텐츠1개의 이미지 크롤링 완료\n"
     ]
    }
   ],
   "source": [
    "from selenium.common.exceptions import NoSuchElementException\n",
    "import db\n",
    "for i in range(len(final_dicts)):\n",
    "    try:\n",
    "        skeword = final_dicts[i]['skeword']\n",
    "        kino_id = final_dicts[i]['KinoId']\n",
    "        search(skeword)\n",
    "        imgs_df = less_img(kino_id,skeword)\n",
    "        db.db_insert(imgs_df,'ImgUrl')\n",
    "        print(f'{i+1} / {len(final_dicts)}')\n",
    "    except NoSuchElementException as NE:\n",
    "        print(f'{NE}: No Result')\n",
    "        pass\n",
    "    except all as err:\n",
    "        print(err)\n",
    "        pass\n",
    "    # break\n",
    "print(f'컨텐츠{i+1}개의 이미지 크롤링 완료')"
   ],
   "metadata": {
    "collapsed": false,
    "pycharm": {
     "name": "#%%\n"
    }
   }
  },
  {
   "cell_type": "markdown",
   "source": [
    "### 추후구현 - 이미지 리사이즈로 대채 더많은 이미지 필요시 개발"
   ],
   "metadata": {
    "collapsed": false,
    "pycharm": {
     "name": "#%% md\n"
    }
   }
  },
  {
   "cell_type": "code",
   "execution_count": 228,
   "outputs": [],
   "source": [
    "#추후 구현\n",
    "def lot_img(kinoid,skeword):\n",
    "    img_df =  pd.DataFrame(columns = [ 'KINO_ID', 'TITLE_EN', 'URL'])\n",
    "    img_dicts = []\n",
    "    cnt = 1\n",
    "    while True:\n",
    "        cnt += 1\n",
    "        try:\n",
    "            more_img = driver.find_elements_by_xpath(f'//*[@id=\"media_index_thumbnail_grid\"]/a[{cnt}]/img')[0]\n",
    "            url = more_img.get_attribute('src')\n",
    "            img_dict = {'KINO_ID':kinoid, 'TITLE_EN':skeword, 'URL':url}\n",
    "            img_df = img_df.append(img_dict, ignore_index=True)\n",
    "        except IndexError as ie:\n",
    "            print(f'get lot img err: {ie}')\n",
    "            break\n",
    "    return img_df"
   ],
   "metadata": {
    "collapsed": false,
    "pycharm": {
     "name": "#%%\n"
    }
   }
  },
  {
   "cell_type": "markdown",
   "source": [
    "# 이미지 리사이즈"
   ],
   "metadata": {
    "collapsed": false,
    "pycharm": {
     "name": "#%% md\n"
    }
   }
  },
  {
   "cell_type": "code",
   "execution_count": 2,
   "outputs": [
    {
     "data": {
      "text/plain": "   KinoId TitleEn                                           SmallImg  \\\n0   13908  Avatar  https://m.media-amazon.com/images/M/MV5BMjEyOT...   \n1   13908  Avatar  https://m.media-amazon.com/images/M/MV5BMjEyOT...   \n2   13908  Avatar  https://m.media-amazon.com/images/M/MV5BNzM2MD...   \n\n                                               OgImg  \n0                                               None  \n1  https://m.media-amazon.com/images/M/MV5BMjEyOT...  \n2  https://m.media-amazon.com/images/M/MV5BNzM2MD...  ",
      "text/html": "<div>\n<style scoped>\n    .dataframe tbody tr th:only-of-type {\n        vertical-align: middle;\n    }\n\n    .dataframe tbody tr th {\n        vertical-align: top;\n    }\n\n    .dataframe thead th {\n        text-align: right;\n    }\n</style>\n<table border=\"1\" class=\"dataframe\">\n  <thead>\n    <tr style=\"text-align: right;\">\n      <th></th>\n      <th>KinoId</th>\n      <th>TitleEn</th>\n      <th>SmallImg</th>\n      <th>OgImg</th>\n    </tr>\n  </thead>\n  <tbody>\n    <tr>\n      <th>0</th>\n      <td>13908</td>\n      <td>Avatar</td>\n      <td>https://m.media-amazon.com/images/M/MV5BMjEyOT...</td>\n      <td>None</td>\n    </tr>\n    <tr>\n      <th>1</th>\n      <td>13908</td>\n      <td>Avatar</td>\n      <td>https://m.media-amazon.com/images/M/MV5BMjEyOT...</td>\n      <td>https://m.media-amazon.com/images/M/MV5BMjEyOT...</td>\n    </tr>\n    <tr>\n      <th>2</th>\n      <td>13908</td>\n      <td>Avatar</td>\n      <td>https://m.media-amazon.com/images/M/MV5BNzM2MD...</td>\n      <td>https://m.media-amazon.com/images/M/MV5BNzM2MD...</td>\n    </tr>\n  </tbody>\n</table>\n</div>"
     },
     "execution_count": 2,
     "metadata": {},
     "output_type": "execute_result"
    }
   ],
   "source": [
    "# from db\n",
    "# db connect\n",
    "user = \"chipnday\"\n",
    "password = \"chipnday2022\"\n",
    "host = \"132.226.150.234:3306\"\n",
    "db = \"chipnday_db\"\n",
    "table = 'ImgUrl'\n",
    "db_connection_str = f'mysql+pymysql://{user}:{password}@{host}/{db}'\n",
    "encoding = '?charset=\"utf8\", encoding=\"utf-8\"'\n",
    "db_connection = create_engine(db_connection_str)\n",
    "conn = db_connection.connect()\n",
    "from_db_df = pd.read_sql_table(table, db_connection)\n",
    "from_db_df.head(3)"
   ],
   "metadata": {
    "collapsed": false,
    "pycharm": {
     "name": "#%%\n"
    }
   }
  },
  {
   "cell_type": "code",
   "execution_count": 3,
   "outputs": [
    {
     "name": "stdout",
     "output_type": "stream",
     "text": [
      "13\n",
      "12 insert success\n"
     ]
    }
   ],
   "source": [
    "import db\n",
    "\n",
    "old_urls = from_db_df['SmallImg'].values.tolist()\n",
    "print(len(old_urls))\n",
    "new_urls = []\n",
    "for url in old_urls:\n",
    "    new_urls.append(url.split(\"V1\")[0])\n",
    "from_db_df['OgImg'] = new_urls\n",
    "db.db_insert(from_db_df,'ImgUrl')"
   ],
   "metadata": {
    "collapsed": false,
    "pycharm": {
     "name": "#%%\n"
    }
   }
  },
  {
   "cell_type": "markdown",
   "source": [
    "### re 정규식 가용"
   ],
   "metadata": {
    "collapsed": false,
    "pycharm": {
     "name": "#%% md\n"
    }
   }
  },
  {
   "cell_type": "code",
   "execution_count": null,
   "outputs": [],
   "source": [
    "pattern = \"100\"\n",
    "pattern = \"QL([0-9]{3}|[0-9]{2}|[0-9])_UX([0-9]{3}|[0-9]{2}|[0-9])_CR([0-9]{3}|[0-9]{2}|[0-9]),([0-9]{3}|[0-9]{2}|[0-9]),([0-9]{3}|[0-9]{2}|[0-9]),([0-9]{3}|[0-9]{2}|[0-9])\"\n",
    "pattern = \"UY100_CR[0-9]{2},([0-9]{2}|[0-9]),100,100\"\n",
    "replace = \"\"\n",
    "resize_url = re.sub(pattern, replace, url)\n",
    "img_dicts"
   ],
   "metadata": {
    "collapsed": false,
    "pycharm": {
     "name": "#%%\n"
    }
   }
  }
 ],
 "metadata": {
  "kernelspec": {
   "display_name": "Python 3",
   "language": "python",
   "name": "python3"
  },
  "language_info": {
   "codemirror_mode": {
    "name": "ipython",
    "version": 2
   },
   "file_extension": ".py",
   "mimetype": "text/x-python",
   "name": "python",
   "nbconvert_exporter": "python",
   "pygments_lexer": "ipython2",
   "version": "2.7.6"
  }
 },
 "nbformat": 4,
 "nbformat_minor": 0
}