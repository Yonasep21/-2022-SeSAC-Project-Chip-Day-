{
 "cells": [
  {
   "cell_type": "code",
   "execution_count": 1,
   "outputs": [],
   "source": [
    "from selenium import webdriver\n",
    "from bs4 import BeautifulSoup\n",
    "import time\n",
    "import pandas as pd\n",
    "import warnings\n",
    "from review import review_parsing\n",
    "from db import db_insert\n",
    "import random\n",
    "warnings.filterwarnings('ignore')"
   ],
   "metadata": {
    "collapsed": false,
    "pycharm": {
     "name": "#%%\n"
    }
   }
  },
  {
   "cell_type": "code",
   "execution_count": 2,
   "metadata": {
    "collapsed": true,
    "pycharm": {
     "name": "#%%\n"
    }
   },
   "outputs": [],
   "source": [
    "# 영화 dataframe\n",
    "# 페이지 접속\n",
    "driver = webdriver.Chrome()\n",
    "driver.get(\"https://m.kinolights.com/discover/explore\") # 키노라이트 탐색를 여는 녀석\n",
    "time.sleep(0.3) #1초 웨이팅 없으면 리젝당할수도..."
   ]
  },
  {
   "cell_type": "markdown",
   "source": [
    "# 메뉴얼 필터링"
   ],
   "metadata": {
    "collapsed": false,
    "pycharm": {
     "name": "#%% md\n"
    }
   }
  },
  {
   "cell_type": "code",
   "execution_count": 4,
   "outputs": [],
   "source": [
    "import json\n",
    "\n",
    "\n",
    "# 영화정보 크롤링 function\n",
    "def crawling():\n",
    "    req = driver.page_source\n",
    "    soup = BeautifulSoup(req, 'html.parser')\n",
    "    links = driver.find_elements_by_xpath('//*[@id=\"contents\"]/section[1]/div/div/ul/li[1]/div/a')\n",
    "    link_len = len(driver.find_elements_by_xpath(f'//*[@id=\"contents\"]/section[2]/div/div/ul/li'))\n",
    "    ottLinks = []\n",
    "    if link_len == 0:\n",
    "        link_len = len(driver.find_elements_by_xpath(f'//*[@id=\"contents\"]/section[1]/div/div/ul/li'))\n",
    "        for i in range(link_len):\n",
    "            link = driver.find_elements_by_xpath(f'//*[@id=\"contents\"]/section[1]/div/div/ul/li[{i+1}]/div/a')[0]\n",
    "            ottLinks.append({\"Ott\":f'{link.text.split(\" \")[0]}',\"OttLink\":link.get_attribute('href')})\n",
    "            # LINKS += \"{name:\"+f'\"{link.text.split(\" \")[0]}\"'+\":'\"+link.get_attribute('href')+\"'},\"\n",
    "    else:\n",
    "        link_len = len(driver.find_elements_by_xpath(f'//*[@id=\"contents\"]/section[2]/div/div/ul/li'))\n",
    "        for i in range(link_len):\n",
    "            link = driver.find_elements_by_xpath(f'//*[@id=\"contents\"]/section[2]/div/div/ul/li[{i+1}]/div/a')[0]\n",
    "            ottLinks.append({\"Name\":f'{link.text.split(\" \")[0]}',\"OttLink\":link.get_attribute('href')})\n",
    "    casts = []\n",
    "    try:\n",
    "        names = soup.select('.photo > img ')\n",
    "        photos = soup.select('.photo > img ')\n",
    "        # director = '\"'+names[0]['alt']+'\"'+':\"'+photos[0]['src']+'\"'\n",
    "        director = {\"Director\":f'{str(names[0][\"alt\"])}', \"ProfilImg\":f'{photos[0][\"src\"]}' }\n",
    "        # LK:: Link { name:value, photo:value } ,\n",
    "        for i in range(len(photos)-1):\n",
    "            if i < len(photos)-2:\n",
    "                casts.append({\"Actor\":f'{names[i+1][\"alt\"]}',\"ProfilImg\":f'{photos[i+1][\"src\"]}'})\n",
    "                # CASTS += '{\"'+names[i+1]['alt']+'\":\"'+photos[i+1][\"src\"]+'\"},'\n",
    "            else:\n",
    "                casts.append({\"Actor\":f'{names[i+1][\"alt\"]}',\"ProfilImg\":f'{photos[i+1][\"src\"]}'})\n",
    "    except IndexError:\n",
    "        casts = None\n",
    "        director = None\n",
    "    try:\n",
    "        trailer = driver.find_element_by_tag_name('iframe').get_attribute('src')\n",
    "    except:\n",
    "        trailer = None\n",
    "\n",
    "    dict = { 'TitleKr' : driver.find_element_by_xpath('//*[@id=\"contents\"]/div[2]/div[5]/div[1]/h3').text,\n",
    "            'TitleEn' : driver.find_elements_by_xpath(\"/html/body/div/div/div/main/div[2]/div[5]/div[1]/h4\")[0].text,\n",
    "            'Poster' : driver.find_element_by_xpath('//*[@id=\"contents\"]/div[2]/div[5]/div[2]/img').get_attribute('src'),\n",
    "            'Genre' : driver.find_elements_by_xpath(\"/html/body/div/div/div/main/div[2]/div[5]/div[1]/p/span[1]\")[0].text[:-2],\n",
    "            'Year' : driver.find_elements_by_xpath(\"/html/body/div/div/div/main/div[2]/div[5]/div[1]/p/span[2]\")[0].text,\n",
    "            'Kino' : None if driver.find_elements_by_xpath(\"/html/body/div/div/div/main/div[2]/div[5]/div[1]/div/div/div[1]/div\")[0].text[:-1] =='- ' else float(driver.find_elements_by_xpath(\"/html/body/div/div/div/main/div[2]/div[5]/div[1]/div/div/div[1]/div\")[0].text[:-1]),\n",
    "            'Tomato' : None if driver.find_elements_by_xpath(\"/html/body/div/div/div/main/div[2]/div[5]/div[1]/div/div/div[2]/span[1]/div\")[0].text[:-3]=='- '\n",
    "            else float(driver.find_elements_by_xpath(\"/html/body/div/div/div/main/div[2]/div[5]/div[1]/div/div/div[2]/span[1]/div\")[0].text[:-3]),\n",
    "            'Imdb' :None if driver.find_elements_by_xpath(\"/html/body/div/div/div/main/div[2]/div[5]/div[1]/div/div/div[2]/span[2]/div\")[0].text[:-2]=='-'\n",
    "             else float(driver.find_elements_by_xpath(\"/html/body/div/div/div/main/div[2]/div[5]/div[1]/div/div/div[2]/span[2]/div\")[0].text[:-2]),\n",
    "            'Star' : None  if driver.find_elements_by_xpath(\"/html/body/div/div/div/main/div[2]/div[5]/div[1]/div/div/div[2]/div/div\")[0].text[:]=='-'\n",
    "            else float(driver.find_elements_by_xpath(\"/html/body/div/div/div/main/div[2]/div[5]/div[1]/div/div/div[2]/div/div\")[0].text[:]),\n",
    "            'OttLinks' : ottLinks,\n",
    "            'Director' :  json.dumps(director),\n",
    "            'Casts' : casts,\n",
    "            'Trailer' : json.dumps(trailer),\n",
    "            'KinoId': int(driver.current_url.split(\"/\")[-1]) }\n",
    "    return dict"
   ],
   "metadata": {
    "collapsed": false,
    "pycharm": {
     "name": "#%%\n"
    }
   }
  },
  {
   "cell_type": "markdown",
   "source": [
    "# 스크롤다운"
   ],
   "metadata": {
    "collapsed": false,
    "pycharm": {
     "name": "#%% md\n"
    }
   }
  },
  {
   "cell_type": "code",
   "execution_count": 5,
   "outputs": [
    {
     "name": "stdout",
     "output_type": "stream",
     "text": [
      "스크롤 완료!\n"
     ]
    }
   ],
   "source": [
    "time.sleep(3)\n",
    "#  스크롤다운\n",
    "SCROLL_PAUSE_SEC = 1\n",
    "# 스크롤 높이 가져옴\n",
    "last_height = driver.execute_script(\"return document.body.scrollHeight\")\n",
    "while True:\n",
    "    # try:\n",
    "    # 끝까지 스크롤 다운\n",
    "    driver.execute_script(\"window.scrollTo(0, document.body.scrollHeight);\")\n",
    "\n",
    "    # 1초 대기\n",
    "    time.sleep(SCROLL_PAUSE_SEC)\n",
    "\n",
    "    # 스크롤 다운 후 스크롤 높이 다시 가져옴\n",
    "    new_height = driver.execute_script(\"return document.body.scrollHeight\")\n",
    "    if new_height == last_height:\n",
    "        print(\"스크롤 완료!\")\n",
    "        break\n",
    "    last_height = new_height\n",
    "    # except:\n",
    "    #     print(\"스크롤 완료\")\n",
    "    #     break\n",
    "#iframe ? 스크롤완료시 오류 없음"
   ],
   "metadata": {
    "collapsed": false,
    "pycharm": {
     "name": "#%%\n"
    }
   }
  },
  {
   "cell_type": "markdown",
   "source": [
    "# get link"
   ],
   "metadata": {
    "collapsed": false,
    "pycharm": {
     "name": "#%% md\n"
    }
   }
  },
  {
   "cell_type": "code",
   "execution_count": 6,
   "outputs": [
    {
     "name": "stdout",
     "output_type": "stream",
     "text": [
      "8 가져옴!\n"
     ]
    }
   ],
   "source": [
    "from selenium.webdriver import ActionChains\n",
    "cnt = 0\n",
    "links = []\n",
    "# 맄크 가져오기\n",
    "while True:\n",
    "    try:\n",
    "        cnt += 1\n",
    "        url = f'//*[@id=\"listArea\"]/div[3]/div[2]/div[{cnt}]/a'\n",
    "        url = f'//*[@id=\"contents\"]/main/div[1]/div[3]/div[2]/div[{cnt}]/a'\n",
    "        link = driver.find_element_by_xpath(url).get_attribute('href')\n",
    "        links.append(link)\n",
    "        # driver.get(link)\n",
    "        # time.sleep(0.3)\n",
    "        # print(crawling())\n",
    "        # driver.back()\n",
    "        # time.sleep(0.3)\n",
    "        # if cnt==3:\n",
    "        #     break\n",
    "    except:\n",
    "        break\n",
    "# for link in links:\n",
    "#     #print(link)\n",
    "print(f'{len(links)} 가져옴!')"
   ],
   "metadata": {
    "collapsed": false,
    "pycharm": {
     "name": "#%%\n"
    }
   }
  },
  {
   "cell_type": "markdown",
   "source": [],
   "metadata": {
    "collapsed": false,
    "pycharm": {
     "name": "#%% md\n"
    }
   }
  },
  {
   "cell_type": "markdown",
   "source": [
    "# main"
   ],
   "metadata": {
    "collapsed": false,
    "pycharm": {
     "name": "#%% md\n"
    }
   }
  },
  {
   "cell_type": "markdown",
   "source": [
    "## get req"
   ],
   "metadata": {
    "collapsed": false,
    "pycharm": {
     "name": "#%% md\n"
    }
   }
  },
  {
   "cell_type": "markdown",
   "source": [
    "# main 함수"
   ],
   "metadata": {
    "collapsed": false,
    "pycharm": {
     "name": "#%% md\n"
    }
   }
  },
  {
   "cell_type": "code",
   "execution_count": 7,
   "outputs": [],
   "source": [
    "def main(inputlinks):\n",
    "    i = 0\n",
    "    s = 0\n",
    "    e = 0\n",
    "    err_links =[]\n",
    "    while True:\n",
    "        try:\n",
    "            time.sleep(random.randrange(1,7))\n",
    "            driver.get(inputlinks[i])\n",
    "            time.sleep(random.randrange(1,3))\n",
    "            m_df =  pd.DataFrame(columns = [ 'TitleKr', 'TitleEn', 'Poster','Genre', 'Year', 'Kino', 'Tomato', 'Imdb', 'Star','OttLinks', 'Info', 'Director', 'Casts', 'Trailer', 'KinoId'])\n",
    "            m_df = m_df.append(crawling(), ignore_index=True)\n",
    "            m_df['OttLinks'] = m_df['OttLinks'].astype('str')\n",
    "            m_df['Casts'] = m_df['Casts'].astype('str')\n",
    "            db_insert(m_df,'MovieInfo')\n",
    "            kino_id = inputlinks[i].split(\"/\")[-1]\n",
    "            try:\n",
    "                db_insert(review_parsing(int(kino_id)),'MovieReview')\n",
    "            except:\n",
    "                print(f'get review err {kino_id}')\n",
    "            i += 1\n",
    "            s += 1\n",
    "            print(f'{i}/{len(inputlinks)} 완료!')\n",
    "        except IndexError as id:\n",
    "            print(f'크롤링 완료~~~~~~~~~!!!!!!!!!!!!!!!{s}/{e}')\n",
    "            break\n",
    "        except all as msg:\n",
    "            print(f'{i}번 err: {msg}')\n",
    "            i += 1\n",
    "            e += 1\n",
    "            err_links.append(links[i])\n",
    "            continue\n",
    "        # if i==2:\n",
    "        #     break\n",
    "    return err_links"
   ],
   "metadata": {
    "collapsed": false,
    "pycharm": {
     "name": "#%%\n"
    }
   }
  },
  {
   "cell_type": "markdown",
   "source": [
    "# RUN"
   ],
   "metadata": {
    "collapsed": false,
    "pycharm": {
     "name": "#%% md\n"
    }
   }
  },
  {
   "cell_type": "code",
   "execution_count": 8,
   "outputs": [
    {
     "name": "stdout",
     "output_type": "stream",
     "text": [
      "208 insert success\n",
      "156 insert success\n",
      "1/8 완료!\n",
      "209 insert success\n",
      "get review err 100200\n",
      "2/8 완료!\n",
      "210 insert success\n",
      "10 insert success\n",
      "3/8 완료!\n",
      "211 insert success\n",
      "17 insert success\n",
      "4/8 완료!\n",
      "212 insert success\n",
      "24 insert success\n",
      "5/8 완료!\n",
      "213 insert success\n",
      "34 insert success\n",
      "6/8 완료!\n",
      "214 insert success\n",
      "36 insert success\n",
      "7/8 완료!\n",
      "215 insert success\n",
      "38 insert success\n",
      "8/8 완료!\n",
      "크롤링 완료~~~~~~~~~!!!!!!!!!!!!!!!8/0\n",
      "0 개 에러 링크 취득!\n"
     ]
    },
    {
     "data": {
      "text/plain": "[]"
     },
     "execution_count": 8,
     "metadata": {},
     "output_type": "execute_result"
    }
   ],
   "source": [
    "err_links = main(links)\n",
    "print(f'{len(err_links)} 개 에러 링크 취득!')\n",
    "err_links"
   ],
   "metadata": {
    "collapsed": false,
    "pycharm": {
     "name": "#%%\n"
    }
   }
  },
  {
   "cell_type": "code",
   "execution_count": null,
   "outputs": [],
   "source": [
    "def err_check(err_link):\n",
    "    while True:\n",
    "            time.sleep(random.randrange(1,7))\n",
    "            driver.get(err_link)\n",
    "            time.sleep(random.randrange(1,3))\n",
    "            m_df =  pd.DataFrame(columns = [ 'TITLE_KR', 'TITLE_EN', 'POSTER','GENRE', 'YEAR', 'KINO', 'TOMATO', 'IMDB', 'STAR','LINK', 'INFO', 'DIRECTOR', 'CAST', 'TRAILER', 'KINO_ID'])\n",
    "            m_df = m_df.append(crawling(), ignore_index=True)\n",
    "            kino_id = err_link.split(\"/\")[-1]\n",
    "            db_insert(m_df,'movie_info')\n",
    "            db_insert(review_parsing(int(kino_id)),'movie_review')\n",
    "            print(f'{i}번 완료!')"
   ],
   "metadata": {
    "collapsed": false,
    "pycharm": {
     "name": "#%%\n"
    }
   }
  },
  {
   "cell_type": "code",
   "execution_count": null,
   "outputs": [],
   "source": [
    "err_check(err_links[0])"
   ],
   "metadata": {
    "collapsed": false,
    "pycharm": {
     "name": "#%%\n"
    }
   }
  },
  {
   "cell_type": "markdown",
   "source": [],
   "metadata": {
    "collapsed": false,
    "pycharm": {
     "name": "#%% md\n"
    }
   }
  }
 ],
 "metadata": {
  "kernelspec": {
   "display_name": "Python 3",
   "language": "python",
   "name": "python3"
  },
  "language_info": {
   "codemirror_mode": {
    "name": "ipython",
    "version": 2
   },
   "file_extension": ".py",
   "mimetype": "text/x-python",
   "name": "python",
   "nbconvert_exporter": "python",
   "pygments_lexer": "ipython2",
   "version": "2.7.6"
  }
 },
 "nbformat": 4,
 "nbformat_minor": 0
}