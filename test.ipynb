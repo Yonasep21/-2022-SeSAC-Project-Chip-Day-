{
 "cells": [
  {
   "cell_type": "code",
   "execution_count": null,
   "outputs": [],
   "source": [
    "A = [1,2,3,4,5]\n",
    "B = [3,4,11,22,23,12,24]\n",
    "C = []\n",
    "for a in A:\n",
    "    if a in B: # 여기서 포문 돌려서 스토어값이 리뷰에 있으면 넘값 넣는 코드\n",
    "        print(\"값이 있음!\")\n",
    "        이게 지금 딕셔너리로 예든건데 df 도 될듯 개발자 머가리~ 온~\n",
    "        솔브?문제해결? 고민타파 자 그럼 코드 치러 꼬ㅓ\n",
    "        C.append({a,\"딕셔너리 로 와꾸 생성 테스트\"})"
   ],
   "metadata": {
    "collapsed": false,
    "pycharm": {
     "name": "#%%\n"
    }
   }
  },
  {
   "cell_type": "code",
   "execution_count": 7,
   "outputs": [
    {
     "data": {
      "text/plain": "{3, '딕셔너리 로 와꾸 생성 테스트'}"
     },
     "execution_count": 7,
     "metadata": {},
     "output_type": "execute_result"
    }
   ],
   "source": [
    "C[0] # ㅇㅋㅇㅋㅇㅋ??"
   ],
   "metadata": {
    "collapsed": false,
    "pycharm": {
     "name": "#%%\n"
    }
   }
  },
  {
   "cell_type": "code",
   "execution_count": 9,
   "outputs": [
    {
     "data": {
      "text/plain": "[{'name': '123'}, {'name': '234'}]"
     },
     "execution_count": 9,
     "metadata": {},
     "output_type": "execute_result"
    }
   ],
   "source": [
    "dic = {\"name\":f'{123}'}\n",
    "dic\n",
    "dic['name']\n",
    "dicts = []\n",
    "dicts.append(dic)\n",
    "dicts.append({\"name\":f'{234}'})\n",
    "dicts\n"
   ],
   "metadata": {
    "collapsed": false,
    "pycharm": {
     "name": "#%%\n"
    }
   }
  },
  {
   "cell_type": "code",
   "execution_count": 11,
   "outputs": [
    {
     "data": {
      "text/plain": "32.43"
     },
     "execution_count": 11,
     "metadata": {},
     "output_type": "execute_result"
    }
   ],
   "source": [
    "float(\"32.43\")"
   ],
   "metadata": {
    "collapsed": false,
    "pycharm": {
     "name": "#%%\n"
    }
   }
  }
 ],
 "metadata": {
  "kernelspec": {
   "display_name": "Python 3",
   "language": "python",
   "name": "python3"
  },
  "language_info": {
   "codemirror_mode": {
    "name": "ipython",
    "version": 2
   },
   "file_extension": ".py",
   "mimetype": "text/x-python",
   "name": "python",
   "nbconvert_exporter": "python",
   "pygments_lexer": "ipython2",
   "version": "2.7.6"
  }
 },
 "nbformat": 4,
 "nbformat_minor": 0
}